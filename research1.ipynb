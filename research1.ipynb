{
 "cells": [
  {
   "cell_type": "code",
   "execution_count": 1,
   "metadata": {},
   "outputs": [],
   "source": [
    "import json\n",
    "import csv\n",
    "import os"
   ]
  },
  {
   "cell_type": "code",
   "execution_count": 7,
   "metadata": {},
   "outputs": [
    {
     "name": "stdout",
     "output_type": "stream",
     "text": [
      "Extracted dateTime and steps values written to 2023-09-21\\dateTime_steps.csv\n"
     ]
    }
   ],
   "source": [
    "# Specify the path to your JSON file\n",
    "json_file_path = '2023-09-21/steps-2023-09-04.json'  # Replace with the actual file path\n",
    "\n",
    "# Read JSON data from the file\n",
    "with open(json_file_path, 'r') as json_file:\n",
    "    json_data = json.load(json_file)\n",
    "\n",
    "# Extract \"dateTime\" and \"value\" values from JSON\n",
    "data_list = []\n",
    "for entry in json_data:\n",
    "    dateTime = entry[\"dateTime\"]\n",
    "    steps = entry[\"value\"]\n",
    "    data_list.append({\"dateTime\": dateTime, \"steps\": steps})\n",
    "\n",
    "# Specify the CSV file name\n",
    "csv_filename = \"dateTime_steps.csv\"\n",
    "\n",
    "output_directory = '2023-09-21'  # Replace with the actual directory path\n",
    "csv_filename = os.path.join(output_directory, csv_filename)\n",
    "\n",
    "# Write the extracted values to a CSV file\n",
    "with open(csv_filename, 'w', newline='') as csvfile:\n",
    "    fieldnames = ['dateTime', 'steps']\n",
    "    writer = csv.DictWriter(csvfile, fieldnames=fieldnames)\n",
    "    \n",
    "    writer.writeheader()  # Write the header row\n",
    "    \n",
    "    for data in data_list:\n",
    "        writer.writerow(data)\n",
    "\n",
    "print(f\"Extracted dateTime and steps values written to {csv_filename}\")"
   ]
  }
 ],
 "metadata": {
  "kernelspec": {
   "display_name": "Python 3",
   "language": "python",
   "name": "python3"
  },
  "language_info": {
   "codemirror_mode": {
    "name": "ipython",
    "version": 3
   },
   "file_extension": ".py",
   "mimetype": "text/x-python",
   "name": "python",
   "nbconvert_exporter": "python",
   "pygments_lexer": "ipython3",
   "version": "3.11.0"
  },
  "orig_nbformat": 4
 },
 "nbformat": 4,
 "nbformat_minor": 2
}
